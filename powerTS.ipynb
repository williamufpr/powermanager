{
 "cells": [
  {
   "cell_type": "markdown",
   "id": "bd628d32",
   "metadata": {},
   "source": [
    "Análise de Consumo de Energia Power Edge"
   ]
  },
  {
   "cell_type": "markdown",
   "id": "8b06eca2",
   "metadata": {},
   "source": [
    "1. Importando bibliotecas e carregando os dados\n",
    "\n"
   ]
  },
  {
   "cell_type": "code",
   "execution_count": 17,
   "id": "c3d3e49a",
   "metadata": {},
   "outputs": [
    {
     "name": "stdout",
     "output_type": "stream",
     "text": [
      "(672, 126)\n",
      "Date and time             object\n",
      "potmin_SMV340200         float64\n",
      "potmin_SMV340201         float64\n",
      "potmin_SMV340202         float64\n",
      "potmin_SMV340203         float64\n",
      "                          ...   \n",
      "tempmax_idrac-9DQGPV3    float64\n",
      "tempmax_idrac-BDQGPV3    float64\n",
      "tempmax_idrac-CDQGPV3    float64\n",
      "tempmax_idrac-DDQGPV3    float64\n",
      "tempmax_idrac-FDQGPV3    float64\n",
      "Length: 126, dtype: object\n"
     ]
    }
   ],
   "source": [
    "import numpy as np\n",
    "import pandas as pd\n",
    "import datetime as dt\n",
    "import seaborn as sns \n",
    "import matplotlib.pyplot as plt \n",
    "\n",
    "DATASET_FILENAME = \"./data/dataset.csv\"\n",
    "\n",
    "energy_raw = pd.read_csv(DATASET_FILENAME)\n",
    "print(energy_raw.shape)\n",
    "print(energy_raw.dtypes)\n"
   ]
  },
  {
   "cell_type": "code",
   "execution_count": 18,
   "id": "f1eff897",
   "metadata": {},
   "outputs": [
    {
     "name": "stdout",
     "output_type": "stream",
     "text": [
      "Date and time            datetime64[ns]\n",
      "potmin_SMV340200                float64\n",
      "potmin_SMV340201                float64\n",
      "potmin_SMV340202                float64\n",
      "potmin_SMV340203                float64\n",
      "                              ...      \n",
      "tempmax_idrac-9DQGPV3           float64\n",
      "tempmax_idrac-BDQGPV3           float64\n",
      "tempmax_idrac-CDQGPV3           float64\n",
      "tempmax_idrac-DDQGPV3           float64\n",
      "tempmax_idrac-FDQGPV3           float64\n",
      "Length: 126, dtype: object\n",
      "             Date and time  potmin_SMV340200  potmin_SMV340201  \\\n",
      "count                  672        666.000000        666.000000   \n",
      "mean   2025-06-14 04:07:30        701.207207        714.794294   \n",
      "min    2025-06-10 16:15:00        660.000000        686.000000   \n",
      "25%    2025-06-12 10:11:15        690.000000        704.000000   \n",
      "50%    2025-06-14 04:07:30        699.000000        714.000000   \n",
      "75%    2025-06-15 22:03:45        712.000000        725.000000   \n",
      "max    2025-06-17 16:00:00        746.000000        763.000000   \n",
      "std                    NaN         14.553578         13.212139   \n",
      "\n",
      "       potmin_SMV340202  potmin_SMV340203  potmin_SMV340204  potmin_SMV340205  \\\n",
      "count        666.000000        668.000000        641.000000        565.000000   \n",
      "mean         708.400901        725.577844        796.283931        890.520354   \n",
      "min          659.000000        674.000000        657.000000        747.000000   \n",
      "25%          693.000000        709.000000        735.000000        859.000000   \n",
      "50%          707.500000        725.000000        778.000000        907.000000   \n",
      "75%          724.000000        739.000000        829.000000        928.000000   \n",
      "max          756.000000        789.000000       1242.000000        969.000000   \n",
      "std           18.958362         21.842525         87.829401         48.339906   \n",
      "\n",
      "       potmin_SMV340206  potmin_SMV340207  potmin_SMV340208  ...  \\\n",
      "count        668.000000        630.000000        586.000000  ...   \n",
      "mean         844.473054        888.869841       1037.493174  ...   \n",
      "min          760.000000        653.000000        657.000000  ...   \n",
      "25%          816.000000        846.000000        982.250000  ...   \n",
      "50%          841.000000        876.500000       1019.500000  ...   \n",
      "75%          871.000000        924.000000       1068.750000  ...   \n",
      "max          965.000000       1106.000000       1289.000000  ...   \n",
      "std           36.835599         70.122733         86.766397  ...   \n",
      "\n",
      "       tempmax_SMV340232  tempmax_SMV340233  tempmax_SMV340234  \\\n",
      "count         666.000000         668.000000         668.000000   \n",
      "mean           27.737237          29.161677          18.148204   \n",
      "min            26.000000          26.000000          17.000000   \n",
      "25%            27.000000          29.000000          18.000000   \n",
      "50%            28.000000          30.000000          18.000000   \n",
      "75%            28.000000          30.000000          18.000000   \n",
      "max            29.000000          32.000000          20.000000   \n",
      "std             0.450591           1.570215           0.399264   \n",
      "\n",
      "       tempmax_SMV340262  tempmax_SMV340263  tempmax_idrac-9DQGPV3  \\\n",
      "count         668.000000         668.000000             668.000000   \n",
      "mean           26.989521          33.282934              30.998503   \n",
      "min            26.000000          32.000000              30.000000   \n",
      "25%            27.000000          33.000000              31.000000   \n",
      "50%            27.000000          33.000000              31.000000   \n",
      "75%            27.000000          34.000000              31.000000   \n",
      "max            28.000000          34.000000              31.000000   \n",
      "std             0.270838           0.510057               0.038691   \n",
      "\n",
      "       tempmax_idrac-BDQGPV3  tempmax_idrac-CDQGPV3  tempmax_idrac-DDQGPV3  \\\n",
      "count             666.000000             668.000000             668.000000   \n",
      "mean               24.764264              22.851796              21.916168   \n",
      "min                24.000000              22.000000              21.000000   \n",
      "25%                25.000000              23.000000              22.000000   \n",
      "50%                25.000000              23.000000              22.000000   \n",
      "75%                25.000000              23.000000              22.000000   \n",
      "max                25.000000              23.000000              22.000000   \n",
      "std                 0.424777               0.355568               0.277344   \n",
      "\n",
      "       tempmax_idrac-FDQGPV3  \n",
      "count             668.000000  \n",
      "mean               26.977545  \n",
      "min                26.000000  \n",
      "25%                27.000000  \n",
      "50%                27.000000  \n",
      "75%                27.000000  \n",
      "max                28.000000  \n",
      "std                 0.252909  \n",
      "\n",
      "[8 rows x 126 columns]\n"
     ]
    }
   ],
   "source": [
    "\n",
    "# Conversão do campo 'Date and time' para datetime\n",
    "energy_raw['Date and time'] = pd.to_datetime(energy_raw['Date and time']).dt.tz_localize(None)\n",
    "print(energy_raw.dtypes)\n",
    "\n",
    "print(energy_raw.describe(include='all'))\n"
   ]
  },
  {
   "cell_type": "code",
   "execution_count": 25,
   "id": "60eb068d",
   "metadata": {},
   "outputs": [
    {
     "name": "stdout",
     "output_type": "stream",
     "text": [
      "Confirmando diferença entre os timestamps:\n",
      "Date and time\n",
      "0 days 00:15:00    671\n",
      "Name: count, dtype: int64\n",
      "Todas as diferenças são de 15 minutos? True\n",
      "        Date and time\n",
      "0 2025-06-10 16:15:00\n"
     ]
    }
   ],
   "source": [
    "# Verificando a série temporal \n",
    "\n",
    "energy_raw = energy_raw.sort_values('Date and time')\n",
    "diffs = energy_raw['Date and time'].diff()\n",
    "\n",
    "print(\"Confirmando diferença entre os timestamps:\")\n",
    "print(diffs.value_counts())\n",
    "\n",
    "expected_delta = pd.Timedelta(minutes=15)\n",
    "all_consistent = (diffs.dropna() == expected_delta).all()\n",
    "\n",
    "print(\"Todas as diferenças são de 15 minutos?\", all_consistent)\n",
    "\n",
    "mask = diffs != expected_delta\n",
    "gaps = energy_raw.loc[mask]\n",
    "\n",
    "print(gaps[['Date and time']])\n",
    "\n"
   ]
  },
  {
   "cell_type": "code",
   "execution_count": null,
   "id": "0b05f258",
   "metadata": {},
   "outputs": [],
   "source": [
    "summary_statistics = energy_raw.describe()\n",
    "print(summary_statistics)\n",
    "summary_statistics.iloc[0,1:]"
   ]
  },
  {
   "cell_type": "code",
   "execution_count": null,
   "id": "1f953bd4",
   "metadata": {},
   "outputs": [],
   "source": []
  }
 ],
 "metadata": {
  "kernelspec": {
   "display_name": "venv",
   "language": "python",
   "name": "python3"
  },
  "language_info": {
   "codemirror_mode": {
    "name": "ipython",
    "version": 3
   },
   "file_extension": ".py",
   "mimetype": "text/x-python",
   "name": "python",
   "nbconvert_exporter": "python",
   "pygments_lexer": "ipython3",
   "version": "3.11.12"
  }
 },
 "nbformat": 4,
 "nbformat_minor": 5
}
